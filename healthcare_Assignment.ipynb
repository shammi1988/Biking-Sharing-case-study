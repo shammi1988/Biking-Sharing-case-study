{
  "nbformat": 4,
  "nbformat_minor": 0,
  "metadata": {
    "colab": {
      "provenance": [],
      "collapsed_sections": [],
      "authorship_tag": "ABX9TyPmyJRcM8NhhFBotVjiTMn/",
      "include_colab_link": true
    },
    "kernelspec": {
      "name": "python3",
      "display_name": "Python 3"
    },
    "language_info": {
      "name": "python"
    }
  },
  "cells": [
    {
      "cell_type": "markdown",
      "metadata": {
        "id": "view-in-github",
        "colab_type": "text"
      },
      "source": [
        "<a href=\"https://colab.research.google.com/github/shammi1988/Biking-Sharing-case-study/blob/main/healthcare_Assignment.ipynb\" target=\"_parent\"><img src=\"https://colab.research.google.com/assets/colab-badge.svg\" alt=\"Open In Colab\"/></a>"
      ]
    },
    {
      "cell_type": "code",
      "execution_count": 1,
      "metadata": {
        "colab": {
          "base_uri": "https://localhost:8080/"
        },
        "id": "1-FG1Rfl0np4",
        "outputId": "eca08132-e96e-4eb9-868a-04d8c52e660a"
      },
      "outputs": [
        {
          "output_type": "stream",
          "name": "stdout",
          "text": [
            "Looking in indexes: https://pypi.org/simple, https://us-python.pkg.dev/colab-wheels/public/simple/\n",
            "Collecting pycrf\n",
            "  Downloading pycrf-0.0.1.tar.gz (1.1 kB)\n",
            "Building wheels for collected packages: pycrf\n",
            "  Building wheel for pycrf (setup.py) ... \u001b[?25l\u001b[?25hdone\n",
            "  Created wheel for pycrf: filename=pycrf-0.0.1-py3-none-any.whl size=1898 sha256=884cb8060471d9928e500b27def24d98ffce700608aa63635eaed24ab1ff74ba\n",
            "  Stored in directory: /root/.cache/pip/wheels/0b/68/37/a457e156cfd6174ed28c9c8cb76f18eeb559b760d84c0a22eb\n",
            "Successfully built pycrf\n",
            "Installing collected packages: pycrf\n",
            "Successfully installed pycrf-0.0.1\n",
            "Looking in indexes: https://pypi.org/simple, https://us-python.pkg.dev/colab-wheels/public/simple/\n",
            "Collecting sklearn-crfsuite\n",
            "  Downloading sklearn_crfsuite-0.3.6-py2.py3-none-any.whl (12 kB)\n",
            "Requirement already satisfied: tqdm>=2.0 in /usr/local/lib/python3.7/dist-packages (from sklearn-crfsuite) (4.64.1)\n",
            "Requirement already satisfied: tabulate in /usr/local/lib/python3.7/dist-packages (from sklearn-crfsuite) (0.8.10)\n",
            "Requirement already satisfied: six in /usr/local/lib/python3.7/dist-packages (from sklearn-crfsuite) (1.15.0)\n",
            "Collecting python-crfsuite>=0.8.3\n",
            "  Downloading python_crfsuite-0.9.8-cp37-cp37m-manylinux_2_17_x86_64.manylinux2014_x86_64.whl (965 kB)\n",
            "\u001b[K     |████████████████████████████████| 965 kB 4.9 MB/s \n",
            "\u001b[?25hInstalling collected packages: python-crfsuite, sklearn-crfsuite\n",
            "Successfully installed python-crfsuite-0.9.8 sklearn-crfsuite-0.3.6\n"
          ]
        }
      ],
      "source": [
        "!pip install pycrf\n",
        "!pip install sklearn-crfsuite"
      ]
    },
    {
      "cell_type": "code",
      "source": [
        "import spacy\n",
        "import sklearn_crfsuite\n",
        "from sklearn_crfsuite import metrics\n",
        "\n",
        "model = spacy.load(\"en_core_web_sm\")\n",
        "import numpy as np\n",
        "import pandas as pd\n",
        "import re\n",
        "import seaborn as sns\n",
        "import matplotlib.pyplot as plt\n",
        "import warnings\n",
        "warnings.filterwarnings('ignore')"
      ],
      "metadata": {
        "id": "mUsU0gGQ0u1B"
      },
      "execution_count": 2,
      "outputs": []
    },
    {
      "cell_type": "code",
      "source": [
        "def process_file(filename):\n",
        "  input_file = open(filename, 'r')\n",
        "  file_content = input_file.readlines() \n",
        "  input_file.close()\n",
        " \n",
        "  out_lines = [] #To store list of sequences (sentences or labels)\n",
        " \n",
        "  line_content = \"\"\n",
        " \n",
        "  for word in file_content:\n",
        "    word = word.strip() \n",
        "    if word == \"\": # If empty line, add the current sequence to out_lines\n",
        "      out_lines.append(line_content)\n",
        "      line_content = \"\"; # re-initialize\n",
        "    else:\n",
        "      if line_content: #if non-empty, add new word after space\n",
        "        line_content += \" \"+word\n",
        "      else:\n",
        "        line_content = word # first word, no space required\n",
        " \n",
        "  return out_lines"
      ],
      "metadata": {
        "id": "WWvh0N1505e0"
      },
      "execution_count": 3,
      "outputs": []
    },
    {
      "cell_type": "code",
      "source": [
        "train_sentences = process_file('train_sent')\n",
        "train_labels = process_file('train_label')\n",
        "test_sentences = process_file('test_sent')\n",
        "test_labels = process_file('test_label')"
      ],
      "metadata": {
        "id": "pBZyfzmN1C0O"
      },
      "execution_count": 4,
      "outputs": []
    },
    {
      "cell_type": "code",
      "source": [
        "# Print the 5 sentences from the processed dataset\n",
        "for i in range(5):\n",
        "  print(\"Sentence:\", train_sentences[i])\n",
        "  print(\"Labels:\", train_labels[i], \"\\n\\n\")"
      ],
      "metadata": {
        "colab": {
          "base_uri": "https://localhost:8080/"
        },
        "id": "gMEgb6zX1cE8",
        "outputId": "620aa434-f11f-452e-86bb-48859b783eaf"
      },
      "execution_count": 5,
      "outputs": [
        {
          "output_type": "stream",
          "name": "stdout",
          "text": [
            "Sentence: All live births > or = 23 weeks at the University of Vermont in 1995 ( n = 2395 ) were retrospectively analyzed for delivery route , indication for cesarean , gestational age , parity , and practice group ( to reflect risk status )\n",
            "Labels: O O O O O O O O O O O O O O O O O O O O O O O O O O O O O O O O O O O O O O O O O O O O O \n",
            "\n",
            "\n",
            "Sentence: The total cesarean rate was 14.4 % ( 344 of 2395 ) , and the primary rate was 11.4 % ( 244 of 2144 )\n",
            "Labels: O O O O O O O O O O O O O O O O O O O O O O O O O \n",
            "\n",
            "\n",
            "Sentence: Abnormal presentation was the most common indication ( 25.6 % , 88 of 344 )\n",
            "Labels: O O O O O O O O O O O O O O O \n",
            "\n",
            "\n",
            "Sentence: The `` corrected '' cesarean rate ( maternal-fetal medicine and transported patients excluded ) was 12.4 % ( 273 of 2194 ) , and the `` corrected '' primary rate was 9.6 % ( 190 of 1975 )\n",
            "Labels: O O O O O O O O O O O O O O O O O O O O O O O O O O O O O O O O O O O O O O \n",
            "\n",
            "\n",
            "Sentence: Arrest of dilation was the most common indication in both `` corrected '' subgroups ( 23.4 and 24.6 % , respectively )\n",
            "Labels: O O O O O O O O O O O O O O O O O O O O O O \n",
            "\n",
            "\n"
          ]
        }
      ]
    },
    {
      "cell_type": "code",
      "source": [
        "# Print the 5 sentences from the processed dataset\n",
        "for i in range(5):\n",
        "  print(\"Sentence:\", test_sentences[i])\n",
        "  print(\"Labels:\", test_labels[i], \"\\n\\n\")"
      ],
      "metadata": {
        "colab": {
          "base_uri": "https://localhost:8080/"
        },
        "id": "Xk_9viLZ1gHe",
        "outputId": "b4f93753-0340-42d5-f557-e82d382d898b"
      },
      "execution_count": 7,
      "outputs": [
        {
          "output_type": "stream",
          "name": "stdout",
          "text": [
            "Sentence: Furthermore , when all deliveries were analyzed , regardless of risk status but limited to gestational age > or = 36 weeks , the rates did not change ( 12.6 % , 280 of 2214 ; primary 9.2 % , 183 of 1994 )\n",
            "Labels: O O O O O O O O O O O O O O O O O O O O O O O O O O O O O O O O O O O O O O O O O O O O \n",
            "\n",
            "\n",
            "Sentence: As the ambient temperature increases , there is an increase in insensible fluid loss and the potential for dehydration\n",
            "Labels: O O O O O O O O O O O O O O O O O O O \n",
            "\n",
            "\n",
            "Sentence: The daily high temperature ranged from 71 to 104 degrees F and AFI values ranged from 1.7 to 24.7 cm during the study period\n",
            "Labels: O O O O O O O O O O O O O O O O O O O O O O O O \n",
            "\n",
            "\n",
            "Sentence: There was a significant correlation between the 2- , 3- , and 4-day mean temperature and AFI , with the 4-day mean being the most significant ( r = 0.31 , p & # 60 ; 0.001 )\n",
            "Labels: O O O O O O O O O O O O O O O O O O O O O O O O O O O O O O O O O O O O O O \n",
            "\n",
            "\n",
            "Sentence: Fluctuations in ambient temperature are inversely correlated to changes in AFI\n",
            "Labels: O O O O O O O O O O O \n",
            "\n",
            "\n"
          ]
        }
      ]
    },
    {
      "cell_type": "markdown",
      "source": [
        "### Count the number of sentences in the processed train and test dataset \n",
        "\n",
        "\n"
      ],
      "metadata": {
        "id": "Fhqp8s2S2hFF"
      }
    },
    {
      "cell_type": "code",
      "source": [
        "print(\"No. of lines in train_sentences:\", len(train_sentences))\n",
        "print(\"No. of lines in test_sentences:\", len(test_sentences))"
      ],
      "metadata": {
        "colab": {
          "base_uri": "https://localhost:8080/"
        },
        "id": "1GVFUYlp11TD",
        "outputId": "06794110-892e-40fb-cf40-3a096eec5cc8"
      },
      "execution_count": 8,
      "outputs": [
        {
          "output_type": "stream",
          "name": "stdout",
          "text": [
            "No. of lines in train_sentences: 2599\n",
            "No. of lines in test_sentences: 1056\n"
          ]
        }
      ]
    },
    {
      "cell_type": "markdown",
      "source": [
        "### Count the number of lines of labels in the processed train and test dataset."
      ],
      "metadata": {
        "id": "jXOwMqPf7pMJ"
      }
    },
    {
      "cell_type": "code",
      "source": [
        "\n",
        "print(\"No. of lines in train_sentences:\", len(train_labels))\n",
        "print(\"No. of lines in test_sentences:\", len(test_labels))"
      ],
      "metadata": {
        "colab": {
          "base_uri": "https://localhost:8080/"
        },
        "id": "qiZ1ymi02IBM",
        "outputId": "15596985-fd4c-42c6-a9ed-5e4b44c6b423"
      },
      "execution_count": 20,
      "outputs": [
        {
          "output_type": "stream",
          "name": "stdout",
          "text": [
            "No. of lines in train_sentences: 2599\n",
            "No. of lines in test_sentences: 1056\n"
          ]
        }
      ]
    },
    {
      "cell_type": "markdown",
      "source": [
        "the total number of sentences in train_sentences and the total number of lines in train_labels are the same and equal to 2599. Similarly, the total number of sentences in test_sentences and the total number of lines in test_labels are the same and equal to 1056, which means that the data preprocessing is done correctly."
      ],
      "metadata": {
        "id": "iny-gQdM2Xll"
      }
    },
    {
      "cell_type": "markdown",
      "source": [
        "##PoS Tags for Concept Identification\n",
        "\n",
        "We will first explore what are the various concepts present in the dataset. For this, we will use PoS Tagging.\n",
        "\n",
        "We will identify all the words from the corpus that have a tag of NOUN or PROPN (nouns) and prepare a dictionary of their counts. We will then output the top 25 most frequently discussed concepts in the entire corpus.\n",
        "\n",
        "The key thing to check is that we are using both test and train sentences. Note that this is okay because we are using a pre-trained model and applying directly on our data. This is an exploratory analysis on the complete data. Since we are not training anything, there is no point is discarding information in test data"
      ],
      "metadata": {
        "id": "RiSsBzpT7xdu"
      }
    },
    {
      "cell_type": "markdown",
      "source": [
        "### Extract those tokens which have NOUN or PROPN as their PoS tag and find their frequency"
      ],
      "metadata": {
        "id": "7kkQu_7I7-MO"
      }
    },
    {
      "cell_type": "code",
      "source": [
        "## create Dictornary \n",
        "concepts = {}\n",
        " \n",
        "for sentences in (train_sentences, test_sentences):\n",
        "  for sentence in sentences:\n",
        "    processed_sentence = model(sentence) \n",
        "    for token in processed_sentence:\n",
        "      if(token.pos_ == 'NOUN' or token.pos_ == 'PROPN'):\n",
        "        concepts[token.text] = concepts.get(token.text, 0) + 1;        "
      ],
      "metadata": {
        "id": "V8ZhIDb02OEa"
      },
      "execution_count": 10,
      "outputs": []
    },
    {
      "cell_type": "markdown",
      "source": [
        "Prints the top 25 most common tokens with NOUN or PROPN PoS tags for the entire dataset that comprises both the train and the test datasets"
      ],
      "metadata": {
        "id": "VbOVkJTM413F"
      }
    },
    {
      "cell_type": "markdown",
      "source": [
        "The output can be tested if the top 25 most common concepts and their frequencies match the following output."
      ],
      "metadata": {
        "id": "ajVGvk0j8IhX"
      }
    },
    {
      "cell_type": "code",
      "source": [
        "from collections import Counter\n",
        "concept_counter = Counter(concepts)\n",
        "concept_counter.most_common(25)"
      ],
      "metadata": {
        "colab": {
          "base_uri": "https://localhost:8080/"
        },
        "id": "oWERXDZw249u",
        "outputId": "cc574f20-1430-4aae-c70a-a87ab9d00128"
      },
      "execution_count": 11,
      "outputs": [
        {
          "output_type": "execute_result",
          "data": {
            "text/plain": [
              "[('patients', 492),\n",
              " ('treatment', 281),\n",
              " ('%', 247),\n",
              " ('cancer', 200),\n",
              " ('therapy', 175),\n",
              " ('study', 154),\n",
              " ('disease', 142),\n",
              " ('cell', 140),\n",
              " ('lung', 116),\n",
              " ('group', 94),\n",
              " ('chemotherapy', 88),\n",
              " ('gene', 87),\n",
              " ('effects', 85),\n",
              " ('women', 77),\n",
              " ('results', 77),\n",
              " ('use', 75),\n",
              " ('risk', 71),\n",
              " ('cases', 71),\n",
              " ('surgery', 71),\n",
              " ('analysis', 70),\n",
              " ('rate', 67),\n",
              " ('dose', 66),\n",
              " ('response', 66),\n",
              " ('survival', 65),\n",
              " ('children', 64)]"
            ]
          },
          "metadata": {},
          "execution_count": 11
        }
      ]
    },
    {
      "cell_type": "markdown",
      "source": [
        "## Defining features for CRF\n",
        "\n",
        "Now we will train a custom CRF to identify diseases (D) and treatments (T) from the data. For this, we will use the training data to train the model and evalaute it on the test set.\n",
        "\n",
        "Things to check:\n",
        "- All features needs to be correctly defined\n",
        "- Only the previous word should be used in addition to the current word for evaluating additional features\n",
        "- BEG and END words have been correctly marked\n",
        "- POS tags (pos_tags) have been correctly passed to the method and used\n",
        "\n",
        "We will reuse the features we studied in the code"
      ],
      "metadata": {
        "id": "7RHGVljs2Vcs"
      }
    },
    {
      "cell_type": "code",
      "source": [
        "# Let's define the features to get the feature value for one word.\n",
        " \n",
        "def getFeaturesForOneWord(sentence, pos, pos_tags):\n",
        "  word = sentence[pos]\n",
        " \n",
        "  #Define 12 features with PoS tag as one of the features\n",
        "  features = [\n",
        "    'word.lower=' + word.lower(), # serves as word id\n",
        "    'word[-3:]=' + word[-3:],     # last three characters\n",
        "    'word[-2:]=' + word[-2:],     # last two characters\n",
        "    'word.isupper=%s' % word.isupper(),  # is the word in all uppercase\n",
        "    'word.isdigit=%s' % word.isdigit(),  # is the word a number\n",
        "    'word.startsWithCapital=%s' % word[0].isupper(), # is the word starting with a capital letter\n",
        "    'word.pos=' + pos_tags[pos]\n",
        "  ]\n",
        " \n",
        "  #Use the previous word also while defining features\n",
        "  if(pos > 0):\n",
        "    prev_word = sentence[pos-1]\n",
        "    features.extend([\n",
        "    'prev_word.lower=' + prev_word.lower(), \n",
        "    'prev_word.isupper=%s' % prev_word.isupper(),\n",
        "    'prev_word.isdigit=%s' % prev_word.isdigit(),\n",
        "    'prev_word.startsWithCapital=%s' % prev_word[0].isupper(),\n",
        "    'prev_word.pos=' + pos_tags[pos-1]\n",
        "  ])\n",
        "  # Mark the beginning and the end words of a sentence correctly in the form of features.\n",
        "  else:\n",
        "    features.append('BEG') # feature to track begin of sentence \n",
        " \n",
        "  if(pos == len(sentence)-1):\n",
        "    features.append('END') # feature to track end of sentence\n",
        " \n",
        "  return features"
      ],
      "metadata": {
        "id": "DD_ju2Pk5fcA"
      },
      "execution_count": 12,
      "outputs": []
    },
    {
      "cell_type": "markdown",
      "source": [
        "## Getting the features\n"
      ],
      "metadata": {
        "id": "7mB1DGyk8T_k"
      }
    },
    {
      "cell_type": "markdown",
      "source": [
        "### Define a function to get the features for a sentence"
      ],
      "metadata": {
        "id": "4iWt7U6P8XWM"
      }
    },
    {
      "cell_type": "code",
      "source": [
        "# Define a function to get features for a sentence using the 'getFeaturesForOneWord' function.\n",
        "def getFeaturesForOneSentence(sentence):\n",
        "  \n",
        "  processed_sentence = model(sentence) #spacy is applied to sentence\n",
        "  \n",
        "  pos_tags = [] #correctly identify pos tags\n",
        "  for token in processed_sentence:\n",
        "    pos_tags.append(token.pos_)\n",
        "\n",
        "  sentence_list = sentence.split() # List of words in sentence\n",
        "  \n",
        "  #Correctly calling getFeaturesForOneWord defined above\n",
        "  return [getFeaturesForOneWord(sentence_list, pos, pos_tags) for pos in range(len(sentence_list))]"
      ],
      "metadata": {
        "id": "pHM9BZ2z5oBg"
      },
      "execution_count": 14,
      "outputs": []
    },
    {
      "cell_type": "markdown",
      "source": [
        "### Define a function to get the labels of a sentence\n"
      ],
      "metadata": {
        "id": "kvuUXclk8U-u"
      }
    },
    {
      "cell_type": "code",
      "source": [
        "### Define a function to get t# Define a function to get the labels for a sentence.\n",
        "def getLabelsInListForOneSentence(labels):\n",
        "  return labels.split()\n"
      ],
      "metadata": {
        "id": "NaLJPKYJ6KI0"
      },
      "execution_count": 15,
      "outputs": []
    },
    {
      "cell_type": "code",
      "source": [
        "# Checking the workings of our feature on an example sentence from the trains set \n",
        "example_sentence = train_sentences[12] # Choosing 13th sentence\n",
        "print(example_sentence) # Printing the entire sentence for reference\n",
        "\n",
        "example_features = getFeaturesForOneSentence(example_sentence)\n",
        "example_features[5] # Choosing the 6th word"
      ],
      "metadata": {
        "colab": {
          "base_uri": "https://localhost:8080/"
        },
        "id": "xHIcXTfi8mxU",
        "outputId": "278c2aca-4942-4bef-8199-60f022127552"
      },
      "execution_count": 17,
      "outputs": [
        {
          "output_type": "stream",
          "name": "stdout",
          "text": [
            "The study population included 84 women with gestational diabetes , ascertained by universal screening of all women attending the antenatal clinic of the Hadassah Medical Center , over a 2-year period\n"
          ]
        },
        {
          "output_type": "execute_result",
          "data": {
            "text/plain": [
              "['word.lower=women',\n",
              " 'word[-3:]=men',\n",
              " 'word[-2:]=en',\n",
              " 'word.isupper=False',\n",
              " 'word.isdigit=False',\n",
              " 'word.startsWithCapital=False',\n",
              " 'word.pos=NOUN',\n",
              " 'prev_word.lower=84',\n",
              " 'prev_word.isupper=False',\n",
              " 'prev_word.isdigit=True',\n",
              " 'prev_word.startsWithCapital=False',\n",
              " 'prev_word.pos=NUM']"
            ]
          },
          "metadata": {},
          "execution_count": 17
        }
      ]
    },
    {
      "cell_type": "markdown",
      "source": [
        "## Define input and target variables\n",
        "Correctly computing X and Y sequence matrices for training and test data.\n",
        "Check that both sentences and labels are processed"
      ],
      "metadata": {
        "id": "Gi1X-WF69Ohu"
      }
    },
    {
      "cell_type": "markdown",
      "source": [
        "### Define the features' values for each sentence as input variable  for CRF model in test and the train dataset "
      ],
      "metadata": {
        "id": "o_EFqcHM9Va9"
      }
    },
    {
      "cell_type": "code",
      "source": [
        "X_train = [getFeaturesForOneSentence(Sentence) for Sentence in train_sentences]\n",
        "y_train = [getLabelsInListForOneSentence(Labels) for Labels in train_labels]"
      ],
      "metadata": {
        "id": "t4md15Bu83FN"
      },
      "execution_count": 21,
      "outputs": []
    },
    {
      "cell_type": "markdown",
      "source": [
        "### Define the labels as the target variable for test and the train dataset\n"
      ],
      "metadata": {
        "id": "in-IF8DK9uPm"
      }
    },
    {
      "cell_type": "code",
      "source": [
        "X_test = [getFeaturesForOneSentence(sentence) for sentence in test_sentences]\n",
        "y_test = [getLabelsInListForOneSentence(labels) for labels in test_labels]"
      ],
      "metadata": {
        "id": "U2_ucV7g9RNq"
      },
      "execution_count": 23,
      "outputs": []
    },
    {
      "cell_type": "markdown",
      "source": [
        "## Build the CRF Model"
      ],
      "metadata": {
        "id": "MzHE6dmr95hy"
      }
    },
    {
      "cell_type": "code",
      "source": [
        "# Build the CRF model.\n",
        "crf=sklearn_crfsuite.CRF(max_iterations=100)\n",
        "#crf.fit(X_train, y_train)\n",
        "\n",
        "try:\n",
        "    crf.fit(X_train, y_train)\n",
        "except AttributeError:\n",
        "    pass\n",
        "#predictions = crf.predict(X_test)\n",
        "\n",
        "#def train_crf(X_train, y_train):  \n",
        "    #crf = sklearn_crfsuite.CRF(  \n",
        "        #algorithm='lbfgs',  \n",
        "        #c1=0.1,  \n",
        "        #c2=0.1,  \n",
        "        #max_iterations=100,  \n",
        "        #all_possible_transitions=True  \n",
        "    #)  \n",
        "    #return crf.fit(X_train, y_train)\n"
      ],
      "metadata": {
        "id": "z-WyccDI-CFd"
      },
      "execution_count": 26,
      "outputs": []
    },
    {
      "cell_type": "code",
      "source": [],
      "metadata": {
        "id": "jAonkPAk-Cjg"
      },
      "execution_count": null,
      "outputs": []
    },
    {
      "cell_type": "markdown",
      "source": [
        "## Evaluation"
      ],
      "metadata": {
        "id": "iR1Ey-M8-T34"
      }
    },
    {
      "cell_type": "markdown",
      "source": [
        "Now evaluate the model. For this, the trained model should be run on test sequences (X_test) and not on X_train.\n",
        "\n",
        "From the features we have defined above, we expect to achieve around 90% F-1"
      ],
      "metadata": {
        "id": "ZgmLwrdJ-T9_"
      }
    },
    {
      "cell_type": "markdown",
      "source": [
        "### Create the logic to get all the predicted treatments (T) labels corresponding to each disease (D) label in the test dataset."
      ],
      "metadata": {
        "id": "NrsTOIJS-nTO"
      }
    },
    {
      "cell_type": "code",
      "source": [
        "y_pred=crf.predict(X_test)"
      ],
      "metadata": {
        "id": "SohJUICX-dLM"
      },
      "execution_count": 27,
      "outputs": []
    },
    {
      "cell_type": "markdown",
      "source": [
        "### Calculate the f1 score using the actual labels and the predicted labels of the test dataset.\n"
      ],
      "metadata": {
        "id": "eUmVrNKj-rYn"
      }
    },
    {
      "cell_type": "code",
      "source": [
        "metrics.flat_f1_score(y_test, y_pred, average='weighted')"
      ],
      "metadata": {
        "colab": {
          "base_uri": "https://localhost:8080/"
        },
        "id": "7aG2jUB1-jK_",
        "outputId": "ae78d80f-904a-4d37-d97d-99b39e53e9ae"
      },
      "execution_count": 29,
      "outputs": [
        {
          "output_type": "execute_result",
          "data": {
            "text/plain": [
              "0.9056559968394909"
            ]
          },
          "metadata": {},
          "execution_count": 29
        }
      ]
    },
    {
      "cell_type": "code",
      "source": [
        "# Testing a sample prediction against actual values\n",
        "# Print the orginal labels and predicted labels for the sentence  in test data, which is at index value 716\n",
        "id = 716\n",
        "print(\"Sentence:\",test_sentences[id])\n",
        "print(\"Orig Labels:\", y_test[id])\n",
        "print(\"Pred Labels:\", y_pred[id])"
      ],
      "metadata": {
        "colab": {
          "base_uri": "https://localhost:8080/"
        },
        "id": "UYIg86qf-0TR",
        "outputId": "023c8ff9-4e0a-442d-a193-c2aba1f45b8a"
      },
      "execution_count": 31,
      "outputs": [
        {
          "output_type": "stream",
          "name": "stdout",
          "text": [
            "Sentence: The importance of patient registration and processing\n",
            "Orig Labels: ['O', 'O', 'O', 'O', 'O', 'O', 'O']\n",
            "Pred Labels: ['O', 'O', 'O', 'O', 'O', 'O', 'O']\n"
          ]
        }
      ]
    },
    {
      "cell_type": "markdown",
      "source": [
        "**Notes** :\n",
        "\n",
        "On checking the sample prediction data, we could see our model has predicted properly."
      ],
      "metadata": {
        "id": "3uFofPW7_F8U"
      }
    },
    {
      "cell_type": "markdown",
      "source": [
        "Identifying Diseases and Treatments using Custom NER\n",
        "We now use the CRF model's prediction to prepare a record of diseases identified in the corpus and treatments used for the diseases."
      ],
      "metadata": {
        "id": "P3nvMkRt_N2d"
      }
    },
    {
      "cell_type": "markdown",
      "source": [
        "### Create the logic to get all the predicted treatments (T) labels corresponding to each disease (D) label in the test dataset."
      ],
      "metadata": {
        "id": "eo4wmEWV_RUz"
      }
    },
    {
      "cell_type": "markdown",
      "source": [
        "![image.png](data:image/png;base64,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)"
      ],
      "metadata": {
        "id": "ZQW_wR1n_UYN"
      }
    },
    {
      "cell_type": "code",
      "source": [
        "#Create a dictionary of key, value pair as disease and possible treatment\n",
        "medical_dictionary = {}\n",
        "\n",
        "for count, labels in enumerate(y_pred): # we are taking the Y-pred labels and count will have the record ID\n",
        "    temp=\"\".join(labels) # removing the spaces between the lablels\n",
        "    #print(count, temp)\n",
        "    totalD=len(re.findall('D',temp)) # find number of 'D' in the sentence\n",
        "    totalT=len(re.findall('T',temp)) # find number of 'T' in the sentence\n",
        "    if totalD>0 and totalT>0: # this means that the sentence has disease and treatment\n",
        "        indexD=[];indexT=[];start_from=0 # Initializing variables used\n",
        "        for i in range(totalD):\n",
        "            foundat=temp.find('D',start_from) # search for 'D' from start_from in the labels\n",
        "            indexD.append(foundat) # put the foundat index in a list called indexD\n",
        "            start_from=foundat+1 # re-initialize start_from from the next word\n",
        "        start_from=0 # initialize the same variable for 'T' labels now\n",
        "        for i in range(totalT):\n",
        "            foundat=temp.find('T',start_from) # search for 'T' from start_from in the labels\n",
        "            indexT.append(foundat) # put the foundat index in a list called indexT\n",
        "            start_from=foundat+1 # re-initialize start_from from the next word\n",
        "        disease='' # Initialize the string disease with empty string\n",
        "        for i in indexD: # Looping through the indexes where 'D' is located\n",
        "            disease=disease+test_sentences[count].split()[i] # we are taking i-th word of the count which is index of sentence\n",
        "            if i+1 not in indexD: # Check condition if the next word is also in the list\n",
        "                disease=disease+', ' # this will be executed for a new disease\n",
        "            else:\n",
        "                disease=disease+' ' # this will be executed for continuation of disease name\n",
        "        treatment='' # Initialize the string treatment with empty string\n",
        "        for i in indexT: # Looping through the indexes where 'D' is located\n",
        "            treatment=treatment+test_sentences[count].split()[i] # we are taking i-th word of the count which is index of sentence\n",
        "            if i+1 not in indexT: # Check condition if the next word is also in the list\n",
        "                treatment=treatment+', ' # this will be executed for a new treatment\n",
        "            else:\n",
        "                treatment=treatment+' ' # this will be executed for continuation of treatment\n",
        "        # finally entering the disease and treatment in the dictionary after removing the last comma and space character\n",
        "        medical_dictionary[disease.rstrip(', ')]=treatment.rstrip(', ') \n",
        "            \n",
        "medical_dictionary"
      ],
      "metadata": {
        "colab": {
          "base_uri": "https://localhost:8080/"
        },
        "id": "A3GYg9M--8eS",
        "outputId": "276875b6-a3e3-42fd-e0a1-7bdbb3bf8293"
      },
      "execution_count": 33,
      "outputs": [
        {
          "output_type": "execute_result",
          "data": {
            "text/plain": [
              "{'hereditary retinoblastoma': 'radiotherapy',\n",
              " 'myocardial infarction': 'warfarin with 80 mg aspirin , or 1 mg warfarin with 80 mg aspirin',\n",
              " 'unstable angina or non-Q-wave myocardial infarction': 'roxithromycin',\n",
              " 'coronary-artery disease': 'Antichlamydial antibiotics',\n",
              " 'primary pulmonary hypertension ( PPH )': 'fenfluramines',\n",
              " 'foot infection': 'G-CSF treatment',\n",
              " \"early Parkinson 's disease\": 'Ropinirole monotherapy',\n",
              " 'sore throat': 'Antibiotics',\n",
              " 'abdominal tuberculosis': 'steroids',\n",
              " 'female stress urinary incontinence': 'surgical treatment',\n",
              " 'preeclampsia ( proteinuric hypertension )': 'intrauterine insemination with donor sperm versus intrauterine insemination',\n",
              " 'intra-abdominal injury': 'senior surgery',\n",
              " 'cancer': 'Matrix metalloproteinase inhibitors',\n",
              " 'major pulmonary embolism': 'Thrombolytic treatment, right-side hemodynamics',\n",
              " 'malignant pleural mesothelioma': 'chemotherapy',\n",
              " 'tumor markers, pulmonary symptoms': 'chemotherapy',\n",
              " 'non-obstructive azoospermia': 'testicular fine needle aspiration ( TEFNA ), open biopsy and testicular sperm extraction ( TESE )',\n",
              " 'colorectal cancer': 'Elective surgery',\n",
              " 'gastrointestinal tumours': 'Elective surgery',\n",
              " \"Parkinson 's disease\": 'Microelectrode-guided posteroventral pallidotomy',\n",
              " 'soft tissue sarcomas': 'Radiotherapy',\n",
              " \"Eisenmenger 's syndrome\": 'laparoscopic cholecystectomy',\n",
              " 'breast cancer': 'undergone subcutaneous mastectomy',\n",
              " 'leukemia': 'Trisomy',\n",
              " 'some malignant tumors such as non-small cell lung cancer': 'surgery',\n",
              " 'inoperable advanced malignancies such as colorectal cancer': 'combination with leucovorin or cisplatin',\n",
              " 'abdominal pain': 'thoracic paravertebral block ( tpvb )',\n",
              " 'inflammatory skin diseases': 'topical corticosteroids',\n",
              " 'unresectable stage iii nsclc': 'studies involving sequential chemotherapy',\n",
              " 'nsclc, nsclc ( stage iiib ), sclc': 'got surgical treatment',\n",
              " 'nsclc': 'platinum-based chemotherapy',\n",
              " 'locally advanced non-small-cell lung cancer ( la-nsclc )': 'chemotherapy and radiotherapy )',\n",
              " 'radiation-induced myelopathy': 'heparin and enoxaparin',\n",
              " 'limited stage small cell lung cancer': 'vip combination chemotherapy',\n",
              " 'malignant pleural effusions from nsclc': 'systemic chemotherapy',\n",
              " 'small-cell lung cancer': 'combination chemotherapy',\n",
              " 'supraclavicular node metastases in nsclc': 'chemoradiotherapy',\n",
              " 'non-small-cell-lung-cancer ( nsclc )': 'cisplatin and radiotherapy',\n",
              " 'lung carcinoma': 'curative therapy',\n",
              " 'single non-sclc, melanoma, ovarian carcinoma brain metastasis': 'surgical resection',\n",
              " 'advanced nsclc': 'combination chemotherapy of cisplatin , ifosfamide and irinotecan with rhg-csf support',\n",
              " 'metastatic colorectal cancer': 'intravenous oxaliplatin',\n",
              " 'platinum-pretreated ovarian cancer': 'oxaliplatin',\n",
              " \"non-hodgkin 's lymphoma, mesothelioma and non-small cell lung cancer\": 'oxaliplatin',\n",
              " 'non-small cell lung cancer, advanced hormone refractory prostate cancer': 'combination with paclitaxel and carboplatin',\n",
              " 'primary lung cancer, adenocarcinoma, squamous cell carcinoma': 'resection',\n",
              " 'stage iii nsclc': 'chemotherapy administered before surgery',\n",
              " 'small cell lung cancer': 'prophylactic cranial irradiation prolongs',\n",
              " 'sclc': 'tumor vaccines',\n",
              " 'advanced non -- small-cell lung cancer': 'paclitaxel plus carboplatin ( pc ), vinorelbine plus cisplatin ( vc )',\n",
              " 'two-year survivors among sclc, extensive disease': 'platinum dose ( cisplatin plus carboplatin ) in combination chemotherapy, combination therapy with carboplatin alone',\n",
              " 'untreated small cell lung cancer ( sclc ), untreated sclc': 'chemotherapy',\n",
              " 'head and neck cancer, xerostomia': 'irradiation therapy, intravenous amifostine',\n",
              " 'disseminated malignant melanoma': 'leukocyte A recombinant interferon ( rIFN-alpha',\n",
              " 'advanced stage ( TNM IIB-IVB ) mycosis fungoides': 'a combination chemotherapy program consisting of bleomycin and methotrexate weekly , doxorubicin every',\n",
              " 'ventricular tachycardia': 'Guiding surgical therapy',\n",
              " 'spinal adhesive arachnoiditis': 'Surgical management',\n",
              " 'bronchiectasis': 'Current surgical therapy',\n",
              " 'biliary dyskinesia': 'Cholecystectomy',\n",
              " 'symptoms, the common cold': 'pseudoephedrine plus',\n",
              " 'acute nasopharyngitis ( ANP )': 'antibiotic treatment',\n",
              " 'symptoms of a common cold': 'Macrolide antibiotics',\n",
              " 'infection, rhinovirus': 'clarithromycin',\n",
              " 'infection': 'a combination of omeprazole , amoxicillin , and clarithromycin',\n",
              " 'persistent asthma': 'Contemporary asthma management guidelines list inhaled corticosteroids',\n",
              " 'asthma': 'Fluticasone propionate, several inhaled corticosteroids',\n",
              " 'chronic hepatitis C': 'Combination therapy with interferon-alpha ( IFN alpha ) plus Ribavirin',\n",
              " 'hepatitis C viremia': 'combination therapy',\n",
              " 'duodenogastric reflux': 'cholecystectomy',\n",
              " 'severe hypoxemia': 'glucocorticoid pulse therapy',\n",
              " 'primary sclerosing cholangitis ( PSC )': 'oral budesonide',\n",
              " 'acute myocardial infarction': 'Thrombolytic therapy',\n",
              " 'peritoneal tumors': 'Subcutaneous injection of irradiated LLC-IL2 did not',\n",
              " 'acute occlusion of the middle cerebral artery, large embolus or high-grade stenosis': 'thrombolytic therapy',\n",
              " 'benign prostatic hyperplasia': 'conservative pharmacological treatment',\n",
              " 'autoimmune diseases': 'High-dose intravenous immunoglobulin ( hdIVIg )',\n",
              " 'phaeochromocytoma': 'Adrenalectomy',\n",
              " 'malignant melanoma': 'interferon alfa-2a',\n",
              " 'advanced renal cell carcinoma': 'various interferon alpha preparations, interferon alfa-N1 , interferon alfa-2a , and interferon alfa-2b',\n",
              " \"low-grade non-Hodgkin 's lymphoma\": 'interferon alpha',\n",
              " 'esophageal achalasia': 'botulinum toxin injection , pneumatic dilation , and laparoscopic myotomy',\n",
              " 'proximal hypospadias': 'Tubularized incised plate hypospadias repair',\n",
              " 'prostate cancer': 'radical prostatectomy and iodine 125 interstitial radiotherapy',\n",
              " 'tumors': 'Immunotherapy',\n",
              " 'mitomycin-resistant bladder cancer': 'photodynamic therapy in combination with mitomycin C',\n",
              " 'B16 melanoma': 'adenosine triphosphate and treatment with buthionine sulfoximine',\n",
              " 'primary uveal melanoma': 'transpupillary thermotherapy',\n",
              " 'advanced rectal cancer': 'Nerve-sparing surgery',\n",
              " 'acute cerebral ischemia': 'Antiplatelet therapy',\n",
              " 'renal cell carcinoma': 'Interferon treatment',\n",
              " 'partial seizures': 'lamotrigine monotherapy',\n",
              " 'autoimmune hemolytic anemia': 'heparin',\n",
              " 'multiple sclerosis': 'Intravenous immunoglobulin treatment',\n",
              " 'acoustic neuroma': 'Stereotactic radiosurgery',\n",
              " 'cerebral palsy': 'Hyperbaric oxygen therapy',\n",
              " 'postvitrectomy diabetic vitreous hemorrhage': 'Peripheral retinal cryotherapy',\n",
              " 'hepatitis B': 'vaccine containing MF59',\n",
              " 'temporomandibular joint arthropathy': 'arthroscopic treatment',\n",
              " 'severe secondary peritonitis': 'Surgical management',\n",
              " 'hepatic metastases from colorectal cancer': 'Hepatic arterial infusion of chemotherapy after resection',\n",
              " 'chronic renal failure': 'Epoetin',\n",
              " 'epithelial ovarian cancer': 'High-dose chemotherapy'}"
            ]
          },
          "metadata": {},
          "execution_count": 33
        }
      ]
    },
    {
      "cell_type": "markdown",
      "source": [
        "### Predict the treatment for the disease name: 'hereditary retinoblastoma'"
      ],
      "metadata": {
        "id": "zV-0KsS1_pxT"
      }
    },
    {
      "cell_type": "code",
      "source": [
        "diseases_identified = list(medical_dictionary.keys())\n",
        "index = 94 \n",
        "\n",
        "print(\"Disease: \",diseases_identified[index])\n",
        "print(\"Treatment:\", medical_dictionary.get(diseases_identified[index]))"
      ],
      "metadata": {
        "colab": {
          "base_uri": "https://localhost:8080/"
        },
        "id": "zDmFAeL__Z0f",
        "outputId": "7e57b224-080b-4cc2-c450-dfa19af608db"
      },
      "execution_count": 35,
      "outputs": [
        {
          "output_type": "stream",
          "name": "stdout",
          "text": [
            "Disease:  cerebral palsy\n",
            "Treatment: Hyperbaric oxygen therapy\n"
          ]
        }
      ]
    },
    {
      "cell_type": "code",
      "source": [],
      "metadata": {
        "id": "KxI_IqPl_tV0"
      },
      "execution_count": null,
      "outputs": []
    }
  ]
}